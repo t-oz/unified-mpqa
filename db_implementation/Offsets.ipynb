{
 "cells": [
  {
   "cell_type": "code",
   "execution_count": 2,
   "id": "1871334f-3cc0-4a64-a433-2da595a8188c",
   "metadata": {},
   "outputs": [],
   "source": [
    "import json"
   ]
  },
  {
   "cell_type": "code",
   "execution_count": 3,
   "id": "45e84189-e7db-4699-9da7-e36425c8d899",
   "metadata": {},
   "outputs": [],
   "source": [
    "f = open('mpqa_csds.json', 'r', encoding='utf-8')"
   ]
  },
  {
   "cell_type": "code",
   "execution_count": 4,
   "id": "dfefc278-dcf2-4466-a981-efb40d461a80",
   "metadata": {},
   "outputs": [],
   "source": [
    "data = json.load(f)"
   ]
  },
  {
   "cell_type": "code",
   "execution_count": 114,
   "id": "705ab6da",
   "metadata": {},
   "outputs": [
    {
     "name": "stdout",
     "output_type": "stream",
     "text": [
      "ORIGINAL: branded as \"evil \"\n",
      "     NEW: branded as \"evil\"\n",
      "ORIGINAL: \"nuclear club \"\n",
      "     NEW: \"nuclear club\"\n",
      "ORIGINAL: may have erred\n",
      "     NEW: may have erred\n",
      "ORIGINAL: more clearly\n",
      "     NEW: more clearly\n",
      "ORIGINAL: real\n",
      "     NEW: real\n",
      "ORIGINAL: as far as human rights are concerned\n",
      "     NEW: as far as human rights are concerned\n",
      "ORIGINAL: easily qualify as repressive and violating human rights\n",
      "     NEW: easily qualify as repressive and violating human rights\n",
      "ORIGINAL: oppressive\n",
      "     NEW: oppressive\n",
      "ORIGINAL: not in itself\n",
      "     NEW: not in itself\n",
      "ORIGINAL: aggressively\n",
      "     NEW: aggressively\n",
      "ORIGINAL: evildoer\n",
      "     NEW: evildoer\n",
      "ORIGINAL: therefore\n",
      "     NEW: therefore\n",
      "ORIGINAL: scores of\n",
      "     NEW: scores of\n",
      "ORIGINAL: seemingly\n",
      "     NEW: seemingly\n",
      "ORIGINAL: Perhaps\n",
      "     NEW: erhaps\n",
      "ORIGINAL: In other words\n",
      "     NEW: n other words\n",
      "ORIGINAL: aggressively\n",
      "     NEW: \n",
      "ORIGINAL: grave human rights violators\n",
      "     NEW: grave human rights violators\n",
      "ORIGINAL: irrespective\n",
      "     NEW: irrespective\n",
      "ORIGINAL: membership in the \"axis of evil, \"\n",
      "     NEW: membership in the \"axis of evil,\"\n",
      "ORIGINAL: per se\n",
      "     NEW: per se\n",
      "ORIGINAL: axis of evil\n",
      "     NEW:  of evi\n",
      "ORIGINAL: mere\n",
      "     NEW: mere\n",
      "ORIGINAL: authoritarian or repressive\n",
      "     NEW: authoritarian or repressive\n",
      "ORIGINAL: By all conservative estimates\n",
      "     NEW: y all conservative estimates\n",
      "ORIGINAL: seems to be\n",
      "     NEW: seems to be\n",
      "ORIGINAL: On this count\n",
      "     NEW: n this count\n",
      "ORIGINAL: more precise\n",
      "     NEW: more precise\n",
      "ORIGINAL: axis of evil\n",
      "     NEW:  of evi\n",
      "ORIGINAL: \"axis of evil \"\n",
      "     NEW: \"axis of evil\"\n",
      "ORIGINAL: at one speed or another\n",
      "     NEW: at one speed or another\n",
      "ORIGINAL: may not be a correct basis\n",
      "     NEW: may not be a correct basis\n",
      "ORIGINAL: do not seem\n",
      "     NEW: do not seem\n",
      "ORIGINAL: After all\n",
      "     NEW: fter all\n",
      "ORIGINAL: every sense of the word\n",
      "     NEW: every sense of the word\n",
      "ORIGINAL: One can name\n",
      "     NEW: ne can name\n",
      "ORIGINAL: repressive\n",
      "     NEW: repressive\n",
      "ORIGINAL: only\n",
      "     NEW: only\n",
      "ORIGINAL: Moreover\n",
      "     NEW: oreover\n",
      "ORIGINAL: Come to think of it\n",
      "     NEW: ome to think of it\n",
      "ORIGINAL: As for\n",
      "     NEW: s for\n",
      "ORIGINAL: If this is the case\n",
      "     NEW: f this is the case\n",
      "ORIGINAL: more restrained and responsible\n",
      "     NEW: more restrained and responsible\n",
      "ORIGINAL: first and only\n",
      "     NEW: first and only\n",
      "ORIGINAL: hardly qualify\n",
      "     NEW: hardly qualify\n",
      "ORIGINAL: particularly noteworthy\n",
      "     NEW: particularly noteworthy\n",
      "ORIGINAL: violating human rights\n",
      "     NEW: violating human rights\n",
      "ORIGINAL: but rather because\n",
      "     NEW: but rather because\n",
      "ORIGINAL: not so much\n",
      "     NEW: not so much\n",
      "ORIGINAL: in fact\n",
      "     NEW: in fact\n",
      "ORIGINAL: There are many countries in the world that hardly qualify as pluralistic democracies\n",
      "     NEW: here are many countries in the world that hardly qualify as pluralistic democracies\n",
      "ORIGINAL: do not seem to come within the scope of the \"axis of evil\n",
      "     NEW: do not seem to come within the scope of the \"axis of evi\n",
      "ORIGINAL: but rather because they have neither the knowledge nor the money to join the \"nuclear club\n",
      "     NEW: but rather because they have neither the knowledge nor the money to join the \"nuclear clu\n",
      "ORIGINAL: feel that its own national security is being threatened\n",
      "     NEW: feel that its own national security is being threatened\n",
      "ORIGINAL: aggressively seeking \"nuclear, biological or chemical weapons\n",
      "     NEW:  seeking\" nuclear, biological or chemical weapons\n",
      "ORIGINAL: particularly disturbed\n",
      "     NEW: particularly disturbed\n",
      "ORIGINAL: The rule, as far as human rights are concerned, is that every nation which does not enjoy pluralistic democracy is violating human rights and is therefore oppressive\n",
      "     NEW: he rule, as far as human rights are concerned, is that every nation which does not enjoy pluralistic democracy is violating human rights and is therefore oppressive\n",
      "ORIGINAL: is not in itself a reason to label a state as evildoer\n",
      "     NEW: is not in itself a reason to label a state as evildoer\n",
      "ORIGINAL: By all conservative estimates, there are scores of other countries which can easily qualify as repressive and violating human rights\n",
      "     NEW: y all conservative estimates, there are scores of other countries which can easily qualify as repressive and violating human rights\n",
      "ORIGINAL: feel that democratic regimes are more restrained and responsible when it comes to resorting to weapons of mass destruction\n",
      "     NEW: feel that democratic regimes are more restrained and responsible when it comes to resorting to weapons of mass destruction\n",
      "ORIGINAL: the term \"axis of evil \"that Bush used in his State of the Union address a few weeks ago to describe\n",
      "     NEW: the term \"axis of evil\" that Bush used in his State of the Union address a few weeks ago to describe\n",
      "ORIGINAL: seems to be particularly disturbed and feel that its own national security is being threatened only when the nations which acquire mass destruction weapons are authoritarian or repressive, irrespective of the pace of amassing weaponry\n",
      "     NEW: seems to be particularly disturbed and feel that its own national security is being threatened only when the nations which acquire mass destruction weapons are authoritarian or repressive, irrespective of the pace of amassing weaponry\n",
      "ORIGINAL: If this is the case, Rice could have elaborated more precise criteria for membership in the \"axis of evil, \"by establishing more clearly the connection between the nature of the regime and the acquisition of weapons of mass destruction\n",
      "     NEW: f this is the case, Rice could have elaborated more precise criteria for membership in the \"axis of evil,\" by establishing more clearly the connection between the nature of the regime and the acquisition of weapons of mass destruction\n",
      "ORIGINAL: As for her wording regarding acquisition of weapons, what is particularly noteworthy is the use of the words\n",
      "     NEW: s for her wording regarding acquisition of weapons, what is particularly noteworthy is the use of the words\n",
      "ORIGINAL: One can name more than a dozen countries which are contemplating the acquisition of mass destruction weapons at one speed or another\n",
      "     NEW: ne can name more than a dozen countries which are contemplating the acquisition of mass destruction weapons at one speed or another\n",
      "ORIGINAL: may not be a correct basis for judging whether a nation is good or evil\n",
      "     NEW: may not be a correct basis for judging whether a nation is good or evil\n",
      "ORIGINAL: On this count, the national security adviser may have erred\n",
      "     NEW: n this count, the national security adviser may have erred\n",
      "ORIGINAL: are contemplating\n",
      "     NEW: are contemplating\n",
      "ORIGINAL: have neither the knowledge nor the money to join the \"nuclear club\n",
      "     NEW: have neither the knowledge nor the money to join the \"nuclear clu\n",
      "ORIGINAL: Perhaps the real criterion in this context is whether the nuclear country is democratic in every sense of the word\n",
      "     NEW: erhaps the real criterion in this context is whether the nuclear country is democratic in every sense of the word\n",
      "ORIGINAL: fear\n",
      "     NEW: fear\n",
      "ORIGINAL: are repressive and grave human rights violators, and aggressively seeking weapons of mass destruction\n",
      "     NEW: are repressive and grave human rights violators, and aggressively seeking weapons of mass destruction\n",
      "ORIGINAL: The criteria set by Rice are the following: the three countries in question are repressive and grave human rights violators, and aggressively seeking weapons of mass destruction\n",
      "     NEW: he criteria set by Rice are the following: the three countries in question are repressive and grave human rights violators, and aggressively seeking weapons of mass destruction\n",
      "ORIGINAL: The rule, as far as human rights are concerned, is that every nation which does not enjoy pluralistic democracy is violating human rights and is therefore oppressive\n",
      "     NEW: he rule, as far as human rights are concerned, is that every nation which does not enjoy pluralistic democracy is violating human rights and is therefore oppressive\n",
      "ORIGINAL: aggressively seeking \"nuclear, biological or chemical weapons\n",
      "     NEW:  seeking\" nuclear, biological or chemical weapons\n",
      "ORIGINAL: are doing so not so much to escape being branded as \"evil\n",
      "     NEW: are doing so not so much to escape being branded as \"evi\n",
      "ORIGINAL: label a state as evildoer\n",
      "     NEW: label a state as evildoer\n",
      "ORIGINAL: \n",
      "     NEW: \n",
      "ORIGINAL: \n",
      "     NEW: \n",
      "ORIGINAL: \n",
      "     NEW: \n",
      "ORIGINAL: \n",
      "     NEW: \n",
      "ORIGINAL: set by\n",
      "     NEW: set by\n",
      "ORIGINAL: the fear\n",
      "     NEW: the fear\n",
      "ORIGINAL: \n",
      "     NEW: \n",
      "ORIGINAL: label\n",
      "     NEW: label\n",
      "ORIGINAL: used\n",
      "     NEW: used\n",
      "ORIGINAL: particularly disturbed\n",
      "     NEW: particularly disturbed\n",
      "ORIGINAL: to describe\n",
      "     NEW: to describe\n",
      "ORIGINAL: feel\n",
      "     NEW: feel\n",
      "ORIGINAL: feel\n",
      "     NEW: feel\n",
      "ORIGINAL: \n",
      "     NEW: \n",
      "ORIGINAL: use of the words\n",
      "     NEW: use of the words\n",
      "ORIGINAL: \n",
      "     NEW: \n",
      "ORIGINAL: \n",
      "     NEW: \n",
      "ORIGINAL: \n",
      "     NEW: \n",
      "ORIGINAL: \n",
      "     NEW: \n",
      "ORIGINAL: \n",
      "     NEW: \n",
      "ORIGINAL: \n",
      "     NEW: \n",
      "ORIGINAL: are contemplating\n",
      "     NEW: are contemplating\n",
      "ORIGINAL: \n",
      "     NEW: \n",
      "ORIGINAL: Elaborating\n",
      "     NEW: laborating\n"
     ]
    }
   ],
   "source": [
    "limit = 100\n",
    "count = 0\n",
    "for obj in data:\n",
    "    if count > limit:\n",
    "        break\n",
    "    s1 = set(['w_head_span', 'w_text', 'clean_head', 'head_start', 'head_end'])\n",
    "    if s1.issubset(obj.keys()):\n",
    "        clean, w_head, w_end = assemble_clean_text(obj['w_head_span'], obj['w_text'])\n",
    "        # print(obj['clean_text'])\n",
    "        print('ORIGINAL:', obj['clean_head'])\n",
    "        print('     NEW:', clean[w_head:w_end])\n",
    "        # print('original:', obj['head_start'], obj['head_end'], 'new:', w_head, w_end)\n",
    "    count+=1"
   ]
  },
  {
   "cell_type": "markdown",
   "id": "da1226fb-c2f4-4a1b-9606-6154c68d2e46",
   "metadata": {},
   "source": [
    "What to do with possesives? For example: PRESIDENT GEORGE Bush 's National Security Adviser Condoleezza Rice has recently \"defined\" the context and scope of the term \"axis of evil\" that Bush used in his State of the Union address a few weeks ago to describe Iraq, Iran and North Korea."
   ]
  },
  {
   "cell_type": "code",
   "execution_count": 1,
   "id": "192a634f-ef59-47d9-861a-bb8f8a1fd87b",
   "metadata": {},
   "outputs": [],
   "source": [
    "raw_str = \"All other countries which are seemingly \\nrefraining from acquiring such weapons are doing so not so much \\nto escape being branded as \\\"evil\\\" but rather because they have \\nneither the knowledge nor the money to join the \\\"nuclear club\\\".\"\n",
    "clean_str = \"All other countries which are seemingly refraining from acquiring such weapons are doing so not so much to escape being branded as \\\"evil \\\"but rather because they have neither the knowledge nor the money to join the \\\"nuclear club \\\".\""
   ]
  },
  {
   "cell_type": "code",
   "execution_count": 82,
   "id": "4d625d83-84db-49e5-a09b-7e3efb192af9",
   "metadata": {},
   "outputs": [],
   "source": [
    "w_text = [\"All\",\n",
    "                \"other\",\n",
    "                \"countries\",\n",
    "                \"which\",\n",
    "                \"are\",\n",
    "                \"seemingly\",\n",
    "                \"refraining\",\n",
    "                \"from\",\n",
    "                \"acquiring\",\n",
    "                \"such\",\n",
    "                \"weapons\",\n",
    "                \"are\",\n",
    "                \"doing\",\n",
    "                \"so\",\n",
    "                \"not\",\n",
    "                \"so\",\n",
    "                \"much\",\n",
    "                \"to\",\n",
    "                \"escape\",\n",
    "                \"being\",\n",
    "                \"branded\",\n",
    "                \"as\",\n",
    "                \"\\\"\",\n",
    "                \"evil\",\n",
    "                \"\\\"\",\n",
    "                \"but\",\n",
    "                \"rather\",\n",
    "                \"because\",\n",
    "                \"they\",\n",
    "                \"have\",\n",
    "                \"neither\",\n",
    "                \"the\",\n",
    "                \"knowledge\",\n",
    "                \"nor\",\n",
    "                \"the\",\n",
    "                \"money\",\n",
    "                \"to\",\n",
    "                \"join\",\n",
    "                \"the\",\n",
    "                \"\\\"\",\n",
    "                \"nuclear\",\n",
    "                \"club\",\n",
    "                \"\\\"\",\n",
    "                \".\"\n",
    "            ]"
   ]
  },
  {
   "cell_type": "code",
   "execution_count": 9,
   "id": "c3fda458-b53d-490d-a333-5db5f165064b",
   "metadata": {},
   "outputs": [],
   "source": [
    "import re\n",
    "\n",
    "def replace_punc(clean_text, offset):\n",
    "    s = clean_text\n",
    "    s, off1 = re.subn(' \\.', '.', s)\n",
    "    s, off2 = re.subn(' ,', ',', s)\n",
    "    s, off3 = re.subn(' ;', ';', s)\n",
    "    s, off4 = re.subn(' :', ':', s) \n",
    "    offset -= (off1+off2+off3+off4)\n",
    "    return s, offset"
   ]
  },
  {
   "cell_type": "code",
   "execution_count": 49,
   "id": "3f375721-4910-44b5-b2d6-b3063b57671a",
   "metadata": {},
   "outputs": [
    {
     "name": "stdout",
     "output_type": "stream",
     "text": [
      " branded as \"evil\" 18\n"
     ]
    }
   ],
   "source": [
    "clean, ind = assemble_clean_text_helper(20, 25 ,w_text)\n",
    "print(clean, ind)"
   ]
  },
  {
   "cell_type": "code",
   "execution_count": 106,
   "id": "3e34d9d9-563e-4a04-8388-14d05d62af5e",
   "metadata": {},
   "outputs": [],
   "source": [
    "#new function\n",
    "def assemble_clean_text_helper(sentinel, w_text):\n",
    "    index = 0\n",
    "    offset = 0\n",
    "    clean_text = ''\n",
    "    in_quote = False\n",
    "    while index < sentinel:\n",
    "        # print(w_text[index], offset)\n",
    "        if (index == 0):\n",
    "            clean_text += w_text[index]\n",
    "            offset += len(w_text[index])\n",
    "            index+=1\n",
    "            continue\n",
    "        if w_text[index] == '\"' or w_text[index] == '\\'':\n",
    "            offset += 1\n",
    "            if in_quote:\n",
    "                clean_text += w_text[index]\n",
    "                in_quote = False\n",
    "            else:\n",
    "                clean_text += ' ' + w_text[index] + w_text[index+1]\n",
    "                index+=1\n",
    "                # print(w_text[index])\n",
    "                in_quote = True\n",
    "        else:\n",
    "            clean_text += ' '\n",
    "            offset += 1\n",
    "            clean_text += w_text[index]    \n",
    "        offset += len(w_text[index])\n",
    "        index += 1\n",
    "        clean_text, offset = replace_punc(clean_text, offset)\n",
    "    return clean_text, offset \n",
    "\n",
    "def assemble_clean_text(w_head_span, w_text):\n",
    "    w_head_start, w_head_end = w_head_span \n",
    "    clean_text = ''\n",
    "    clean_text, w_head_start_offset = assemble_clean_text_helper(w_head_start, w_text)\n",
    "    clean_text, w_head_end_offset = assemble_clean_text_helper(w_head_end, w_text)\n",
    "    clean_text, _ = assemble_clean_text_helper(len(w_text),w_text)\n",
    "    #add one for space\n",
    "    return clean_text, w_head_start_offset+1, w_head_end_offset"
   ]
  },
  {
   "cell_type": "code",
   "execution_count": 108,
   "id": "cae8c617-0edf-4f18-9c5f-f1927fa712dc",
   "metadata": {},
   "outputs": [
    {
     "name": "stdout",
     "output_type": "stream",
     "text": [
      "PRESIDENT GEORGE Bush 's National Security Adviser Condoleezza Rice has recently \"defined\" the context and scope of the term \"axis 129\n"
     ]
    }
   ],
   "source": [
    "new_clean, ind = assemble_clean_text_helper(22, w_text)\n",
    "print(new_clean, ind)"
   ]
  },
  {
   "cell_type": "code",
   "execution_count": 100,
   "id": "a6ac8417-2301-4372-a5d4-56126c9a26f5",
   "metadata": {},
   "outputs": [
    {
     "data": {
      "text/plain": [
       "' \"axis of evi'"
      ]
     },
     "execution_count": 100,
     "metadata": {},
     "output_type": "execute_result"
    }
   ],
   "source": [
    "new_clean[124:137]"
   ]
  },
  {
   "cell_type": "code",
   "execution_count": 96,
   "id": "2f217f1e-f540-4c50-8482-bc39da596e20",
   "metadata": {},
   "outputs": [
    {
     "name": "stdout",
     "output_type": "stream",
     "text": [
      "PRESIDENT GEORGE Bush 's National Security Adviser Condoleezza Rice has recently \"defined\" the context and scope of the term \"axis of evil 137\n"
     ]
    }
   ],
   "source": [
    "new_clean, ind = assemble_clean_text_helper(25, w_text)\n",
    "print(new_clean, ind)"
   ]
  },
  {
   "cell_type": "code",
   "execution_count": 84,
   "id": "46ad1c12-6dc5-4e3f-a1c0-f3b521192a2d",
   "metadata": {},
   "outputs": [
    {
     "data": {
      "text/plain": [
       "'\"'"
      ]
     },
     "execution_count": 84,
     "metadata": {},
     "output_type": "execute_result"
    }
   ],
   "source": [
    "w_text[22]"
   ]
  },
  {
   "cell_type": "code",
   "execution_count": 81,
   "id": "51df6913-643c-4500-8ed1-83da77e98455",
   "metadata": {},
   "outputs": [
    {
     "name": "stdout",
     "output_type": "stream",
     "text": [
      "PRESIDENT 0\n",
      "GEORGE 9\n",
      "Bush 16\n",
      "'s 21\n",
      "National 24\n",
      "Security 33\n",
      "Adviser 42\n",
      "Condoleezza 50\n",
      "Rice 62\n",
      "has 67\n",
      "recently 71\n",
      "\" 80\n",
      "defined\n",
      "\" 88\n",
      "the 90\n",
      "context 94\n",
      "and 102\n",
      "scope 106\n",
      "of 112\n",
      "the 115\n",
      "term 119\n",
      "\" 124\n",
      "axis\n",
      "PRESIDENT 0\n",
      "GEORGE 9\n",
      "Bush 16\n",
      "'s 21\n",
      "National 24\n",
      "Security 33\n",
      "Adviser 42\n",
      "Condoleezza 50\n",
      "Rice 62\n",
      "has 67\n",
      "recently 71\n",
      "\" 80\n",
      "defined\n",
      "\" 88\n",
      "the 90\n",
      "context 94\n",
      "and 102\n",
      "scope 106\n",
      "of 112\n",
      "the 115\n",
      "term 119\n",
      "\" 124\n",
      "axis\n",
      "of 129\n",
      "evil 132\n",
      "PRESIDENT 0\n",
      "GEORGE 9\n",
      "Bush 16\n",
      "'s 21\n",
      "National 24\n",
      "Security 33\n",
      "Adviser 42\n",
      "Condoleezza 50\n",
      "Rice 62\n",
      "has 67\n",
      "recently 71\n",
      "\" 80\n",
      "defined\n",
      "\" 88\n",
      "the 90\n",
      "context 94\n",
      "and 102\n",
      "scope 106\n",
      "of 112\n",
      "the 115\n",
      "term 119\n",
      "\" 124\n",
      "axis\n",
      "of 129\n",
      "evil 132\n",
      "\" 137\n",
      "that 139\n",
      "Bush 144\n",
      "used 149\n",
      "in 154\n",
      "his 157\n",
      "State 161\n",
      "of 167\n",
      "the 170\n",
      "Union 174\n",
      "address 180\n",
      "a 188\n",
      "few 190\n",
      "weeks 194\n",
      "ago 200\n",
      "to 204\n",
      "describe 207\n",
      "Iraq 216\n",
      ", 221\n",
      "Iran 222\n",
      "and 227\n",
      "North 231\n",
      "Korea 237\n",
      ". 243\n",
      "PRESIDENT GEORGE Bush 's National Security Adviser Condoleezza Rice has recently \"defined\" the context and scope of the term \"axis of evil\" that Bush used in his State of the Union address a few weeks ago to describe Iraq, Iran and North Korea. 130 137\n",
      " of evi\n"
     ]
    }
   ],
   "source": [
    "clean, w_head, w_end = assemble_clean_text([22, 25], w_text)\n",
    "print(clean, w_head, w_end)\n",
    "print(clean[w_head:w_end])"
   ]
  },
  {
   "cell_type": "code",
   "execution_count": 89,
   "id": "a869ea63-1a2e-469d-bbb8-7a4bdd09ee89",
   "metadata": {},
   "outputs": [],
   "source": [
    "w_text = [\n",
    "                \"PRESIDENT\",\n",
    "                \"GEORGE\",\n",
    "                \"Bush\",\n",
    "                \"'s\",\n",
    "                \"National\",\n",
    "                \"Security\",\n",
    "                \"Adviser\",\n",
    "                \"Condoleezza\",\n",
    "                \"Rice\",\n",
    "                \"has\",\n",
    "                \"recently\",\n",
    "                \"\\\"\",\n",
    "                \"defined\",\n",
    "                \"\\\"\",\n",
    "                \"the\",\n",
    "                \"context\",\n",
    "                \"and\",\n",
    "                \"scope\",\n",
    "                \"of\",\n",
    "                \"the\",\n",
    "                \"term\",\n",
    "                \"\\\"\",\n",
    "                \"axis\",\n",
    "                \"of\",\n",
    "                \"evil\",\n",
    "                \"\\\"\",\n",
    "                \"that\",\n",
    "                \"Bush\",\n",
    "                \"used\",\n",
    "                \"in\",\n",
    "                \"his\",\n",
    "                \"State\",\n",
    "                \"of\",\n",
    "                \"the\",\n",
    "                \"Union\",\n",
    "                \"address\",\n",
    "                \"a\",\n",
    "                \"few\",\n",
    "                \"weeks\",\n",
    "                \"ago\",\n",
    "                \"to\",\n",
    "                \"describe\",\n",
    "                \"Iraq\",\n",
    "                \",\",\n",
    "                \"Iran\",\n",
    "                \"and\",\n",
    "                \"North\",\n",
    "                \"Korea\",\n",
    "                \".\"\n",
    "            ]"
   ]
  },
  {
   "cell_type": "code",
   "execution_count": 83,
   "id": "eddd63c4-4137-42af-a82f-53df63315f9b",
   "metadata": {},
   "outputs": [
    {
     "name": "stdout",
     "output_type": "stream",
     "text": [
      "All 0\n",
      "other 3\n",
      "countries 9\n",
      "which 19\n",
      "are 25\n",
      "seemingly 29\n",
      "refraining 39\n",
      "from 50\n",
      "acquiring 55\n",
      "such 65\n",
      "weapons 70\n",
      "are 78\n",
      "doing 82\n",
      "so 88\n",
      "not 91\n",
      "so 95\n",
      "much 98\n",
      "to 103\n",
      "escape 106\n",
      "being 113\n",
      "All 0\n",
      "other 3\n",
      "countries 9\n",
      "which 19\n",
      "are 25\n",
      "seemingly 29\n",
      "refraining 39\n",
      "from 50\n",
      "acquiring 55\n",
      "such 65\n",
      "weapons 70\n",
      "are 78\n",
      "doing 82\n",
      "so 88\n",
      "not 91\n",
      "so 95\n",
      "much 98\n",
      "to 103\n",
      "escape 106\n",
      "being 113\n",
      "branded 119\n",
      "as 127\n",
      "\" 130\n",
      "evil\n",
      "\" 135\n",
      "All 0\n",
      "other 3\n",
      "countries 9\n",
      "which 19\n",
      "are 25\n",
      "seemingly 29\n",
      "refraining 39\n",
      "from 50\n",
      "acquiring 55\n",
      "such 65\n",
      "weapons 70\n",
      "are 78\n",
      "doing 82\n",
      "so 88\n",
      "not 91\n",
      "so 95\n",
      "much 98\n",
      "to 103\n",
      "escape 106\n",
      "being 113\n",
      "branded 119\n",
      "as 127\n",
      "\" 130\n",
      "evil\n",
      "\" 135\n",
      "but 137\n",
      "rather 141\n",
      "because 148\n",
      "they 156\n",
      "have 161\n",
      "neither 166\n",
      "the 174\n",
      "knowledge 178\n",
      "nor 188\n",
      "the 192\n",
      "money 196\n",
      "to 202\n",
      "join 205\n",
      "the 210\n",
      "\" 214\n",
      "nuclear\n",
      "club 222\n",
      "\" 227\n",
      ". 229\n",
      "All other countries which are seemingly refraining from acquiring such weapons are doing so not so much to escape being branded as \"evil\" but rather because they have neither the knowledge nor the money to join the \"nuclear club\". 120 137\n"
     ]
    }
   ],
   "source": [
    "clean, w_head, w_end = assemble_clean_text([20, 25], w_text)\n",
    "print(clean, w_head, w_end)"
   ]
  },
  {
   "cell_type": "code",
   "execution_count": 55,
   "id": "ff6d58b7-1717-44c5-81ad-2482b61b4875",
   "metadata": {},
   "outputs": [
    {
     "data": {
      "text/plain": [
       "'branded as \"evil\"'"
      ]
     },
     "execution_count": 55,
     "metadata": {},
     "output_type": "execute_result"
    }
   ],
   "source": [
    "clean[w_head:w_end]"
   ]
  },
  {
   "cell_type": "code",
   "execution_count": null,
   "id": "c28371bc-fd08-48ee-aca8-eddb40030827",
   "metadata": {},
   "outputs": [],
   "source": []
  },
  {
   "cell_type": "code",
   "execution_count": null,
   "id": "16da97a3-2b04-4947-90ad-54982207d3b6",
   "metadata": {},
   "outputs": [],
   "source": [
    "raw_str2 = \"One can name more than a dozen countries which are \\ncontemplating the acquisition of mass destruction weapons at one \\nspeed or another.\"\n",
    "clean_str2 = \"One can name more than a dozen countries which are contemplating the acquisition of mass destruction weapons at one speed or another.\""
   ]
  },
  {
   "cell_type": "markdown",
   "id": "d6fb93a6-aa05-4b0f-aca6-5eff98b670b7",
   "metadata": {
    "jp-MarkdownHeadingCollapsed": true,
    "tags": []
   },
   "source": [
    "## Previous work"
   ]
  },
  {
   "cell_type": "code",
   "execution_count": null,
   "id": "b28b9abc-0477-469b-b69e-68849c4245b1",
   "metadata": {},
   "outputs": [],
   "source": [
    "def assemble_clean_text_helper(index, sentinel, offset, clean_text, w_text):\n",
    "    in_single_quotation = False\n",
    "    in_double_quotation = False\n",
    "    while index < sentinel:\n",
    "        if (index == 0):\n",
    "            clean_text += w_text[index]\n",
    "            continue\n",
    "        if w_text[index] == '\"':\n",
    "            if in_double_quotation:\n",
    "                in_double_quotation = False\n",
    "            else:\n",
    "                clean_text += ' '\n",
    "                in_double_quotation = True\n",
    "        else if w_text[index] == '\\'':\n",
    "            if in_single_quotation:\n",
    "                in_single_quotation = False\n",
    "            else:\n",
    "                clean_text += ' '\n",
    "                in_single_quotation = True\n",
    "        else if w_text[index] != '.':\n",
    "            clean_text += ' '\n",
    "            offset += 1\n",
    "        clean_text += w_text[index]    \n",
    "        offset += len(w_text[index])\n",
    "    return clean_text, offset "
   ]
  },
  {
   "cell_type": "code",
   "execution_count": null,
   "id": "52a061de-f948-4e05-889d-241f75eb36c2",
   "metadata": {},
   "outputs": [],
   "source": [
    "def assemble_clean_text(w_head_span, w_text):\n",
    "    w_head_start, w_head_end = w_head_span \n",
    "    offset = 0\n",
    "    index = 0\n",
    "    clean_text = ''\n",
    "    clean_text, w_head_start_offset = assemble_clean_text_helper(index, w_head_start, clean_text, w_text)\n",
    "    clean_text, w_head_end_offset = assemble_clean_text_helper(index, w_head_end, clean_text, w_text)\n",
    "    clean_text, _ = assemble_clean_text_helper(index, len(w_text), clean_text, w_text);\n",
    "    return clean_text, w_head_start_offset, w_head_end_offset"
   ]
  },
  {
   "cell_type": "code",
   "execution_count": null,
   "id": "bfc01c9c-6984-4af0-a44d-8e79661e8783",
   "metadata": {},
   "outputs": [],
   "source": [
    "def offset(raw_str, clean_str, head_start, head_end):\n",
    "    diff = 0\n",
    "    quote = False\n",
    "    for ind in range(len(clean_str)):\n",
    "        temp = ind + diff\n",
    "        # print(ind)\n",
    "        if clean_str[ind] == ' ':\n",
    "            if clean_str[ind+1] == '\\\"': \n",
    "                if quote == False:\n",
    "                    quote = True\n",
    "                else:\n",
    "                    clean_str = clean_str[:ind] + '\\\" ' + clean_str[ind+2:]\n",
    "                    quote = False\n",
    "        while raw_str[temp] != clean_str[ind] and temp < len(raw_str):\n",
    "            temp += 1\n",
    "            diff += 1\n",
    "            if head_start > ind:\n",
    "                head_start -= 1\n",
    "                head_end -= 1\n",
    "            elif head_end > ind:\n",
    "                head_end -= 1\n",
    "    return [head_start, head_end]"
   ]
  },
  {
   "cell_type": "markdown",
   "id": "1927a5b3-e163-4cba-9f2b-87a0e183e255",
   "metadata": {
    "jp-MarkdownHeadingCollapsed": true,
    "tags": []
   },
   "source": [
    "## 1. when you hit a quote, check if the 'quote' boolean is false or true; if false, set it to true. if quote is true and character before the quote is a ' ' AND quote is true (meaning you hit the first quote already), then replace with '\\\" ' and set quote back to false."
   ]
  },
  {
   "cell_type": "markdown",
   "id": "d902cf89-4086-4481-a452-57c6eb91273a",
   "metadata": {},
   "source": [
    "do we want to preprocess all the quotes? Currently we are only switching the ones that are before the end of the anchor (head_end)"
   ]
  },
  {
   "cell_type": "code",
   "execution_count": null,
   "id": "393fb6c3-23a7-4de3-9a6f-d43ccd621284",
   "metadata": {},
   "outputs": [],
   "source": [
    "raw_str = \"All other countries which are seemingly \\nrefraining from acquiring such weapons are doing so not so much \\nto escape being branded as \\\"evil\\\" but rather because they have \\nneither the knowledge nor the money to join the \\\"nuclear club\\\".\"\n",
    "clean_str = \"All other countries which are seemingly refraining from acquiring such weapons are doing so not so much to escape being branded as \\\"evil \\\"but rather because they have neither the knowledge nor the money to join the \\\"nuclear club \\\".\"\n",
    "offset(raw_str, clean_str, 218, 232)"
   ]
  },
  {
   "cell_type": "code",
   "execution_count": null,
   "id": "20e511e2-bcd8-4146-85f6-b4b61626c561",
   "metadata": {},
   "outputs": [],
   "source": [
    "clean_str[231]"
   ]
  },
  {
   "cell_type": "code",
   "execution_count": null,
   "id": "e9295b42-fd02-4c17-8d7d-4f059b89afaf",
   "metadata": {},
   "outputs": [],
   "source": [
    "raw_str[218:232]"
   ]
  },
  {
   "cell_type": "code",
   "execution_count": null,
   "id": "100e766f-a64b-47e8-b17c-8104601e3739",
   "metadata": {},
   "outputs": [],
   "source": [
    "clean_str[218:232]"
   ]
  },
  {
   "cell_type": "code",
   "execution_count": null,
   "id": "8a79b4f7-af90-4dbd-ab35-fcc165ffab39",
   "metadata": {},
   "outputs": [],
   "source": [
    "raw_str2 = \"One can name more than a dozen countries which are \\ncontemplating the acquisition of mass destruction weapons at one \\nspeed or another.\"\n",
    "clean_str2 = \"One can name more than a dozen countries which are contemplating the acquisition of mass destruction weapons at one speed or another.\""
   ]
  },
  {
   "cell_type": "code",
   "execution_count": null,
   "id": "bdd68bc2-845b-444c-a4fe-4e1d082f2de3",
   "metadata": {},
   "outputs": [],
   "source": [
    "offset(raw_str2, clean_str2, 47, 65)"
   ]
  },
  {
   "cell_type": "code",
   "execution_count": null,
   "id": "f5a5649b-39f4-4f83-8dbb-9f8ff5c9801a",
   "metadata": {},
   "outputs": [],
   "source": [
    "raw_str2[47:65]"
   ]
  },
  {
   "cell_type": "code",
   "execution_count": null,
   "id": "057e6cbc-2315-4dc0-baf1-e9bb0093e465",
   "metadata": {},
   "outputs": [],
   "source": [
    "clean_str2[47:64]"
   ]
  },
  {
   "cell_type": "code",
   "execution_count": null,
   "id": "31c1699d-79cc-4586-8f47-221dfcf82de1",
   "metadata": {},
   "outputs": [],
   "source": [
    "def main():\n",
    "    "
   ]
  },
  {
   "cell_type": "code",
   "execution_count": null,
   "id": "f864babb-1f15-42c6-b327-cbd92a8620ba",
   "metadata": {},
   "outputs": [],
   "source": [
    "\n",
    "\n",
    "if __name__ == '__main__':\n",
    "    main()"
   ]
  }
 ],
 "metadata": {
  "kernelspec": {
   "display_name": "Python 3 (ipykernel)",
   "language": "python",
   "name": "python3"
  },
  "language_info": {
   "codemirror_mode": {
    "name": "ipython",
    "version": 3
   },
   "file_extension": ".py",
   "mimetype": "text/x-python",
   "name": "python",
   "nbconvert_exporter": "python",
   "pygments_lexer": "ipython3",
   "version": "3.10.9"
  }
 },
 "nbformat": 4,
 "nbformat_minor": 5
}
