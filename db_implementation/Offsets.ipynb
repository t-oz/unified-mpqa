{
 "cells": [
  {
   "cell_type": "code",
   "execution_count": 1,
   "id": "1871334f-3cc0-4a64-a433-2da595a8188c",
   "metadata": {},
   "outputs": [],
   "source": [
    "import json"
   ]
  },
  {
   "cell_type": "code",
   "execution_count": 11,
   "id": "45e84189-e7db-4699-9da7-e36425c8d899",
   "metadata": {},
   "outputs": [],
   "source": [
    "f = open('mpqa_csds.json', 'r', encoding='utf-8')"
   ]
  },
  {
   "cell_type": "code",
   "execution_count": 12,
   "id": "dfefc278-dcf2-4466-a981-efb40d461a80",
   "metadata": {},
   "outputs": [],
   "source": [
    "data = json.load(f)"
   ]
  },
  {
   "cell_type": "code",
   "execution_count": 119,
   "id": "c3fda458-b53d-490d-a333-5db5f165064b",
   "metadata": {},
   "outputs": [],
   "source": [
    "import re\n",
    "\n",
    "def replace_punc(clean_text, offset, offset_list):\n",
    "    s = clean_text\n",
    "    s, off1 = re.subn(' \\.', '.', s)\n",
    "    s, off2 = re.subn(' ,', ',', s)\n",
    "    s, off3 = re.subn(' ;', ';', s)\n",
    "    s, off4 = re.subn(' :', ':', s)\n",
    "    s, off5 = re.subn(' \\'s', '\\'s', s)\n",
    "    offset -= (off1+off2+off3+off4+off5)\n",
    "    if (off1+off2+off3+off4+off5 > 0):\n",
    "        offset_list[-1] -=1\n",
    "    return s, offset, offset_list"
   ]
  },
  {
   "cell_type": "code",
   "execution_count": 120,
   "id": "a3a3817f-d56e-455c-aba0-77143489ba4a",
   "metadata": {},
   "outputs": [],
   "source": [
    "def assemble_tokens(w_text):\n",
    "    clean_text = ''\n",
    "    offset = 0\n",
    "    offset_list = [0]\n",
    "    index = 0\n",
    "    in_quote = False\n",
    "    while index < len(w_text):\n",
    "        if (index == 0):\n",
    "            clean_text += w_text[index]\n",
    "            offset += len(w_text[index])\n",
    "            index+=1\n",
    "            continue\n",
    "        if w_text[index] == '\"' or w_text[index] == '\\'':\n",
    "            if not in_quote:\n",
    "                clean_text += ' ' + w_text[index] + w_text[index+1]\n",
    "                offset += 1\n",
    "                offset_list.append(offset)\n",
    "                offset+= len(w_text[index])\n",
    "                offset_list.append(offset)\n",
    "                #for the word itself\n",
    "                index+=1\n",
    "                offset += len(w_text[index])\n",
    "                in_quote = True\n",
    "            else:\n",
    "                clean_text += w_text[index]\n",
    "                offset_list.append(offset)\n",
    "                offset += 1\n",
    "                in_quote = False\n",
    "        else:\n",
    "            clean_text += ' '\n",
    "            offset += 1\n",
    "            offset_list.append(offset)\n",
    "            clean_text += w_text[index]    \n",
    "            offset += len(w_text[index])\n",
    "        clean_text, offset, offset_list = replace_punc(clean_text, offset, offset_list)\n",
    "        index += 1\n",
    "    return clean_text, offset_list"
   ]
  },
  {
   "cell_type": "code",
   "execution_count": 122,
   "id": "705ab6da",
   "metadata": {},
   "outputs": [
    {
     "name": "stdout",
     "output_type": "stream",
     "text": [
      "ORIGINAL: branded as \"evil \"\n",
      "     NEW: branded as \"evil\"\n",
      "ORIGINAL: \"nuclear club \"\n",
      "     NEW: \"nuclear club\"\n",
      "ORIGINAL: may have erred\n",
      "     NEW: may have erred\n",
      "ORIGINAL: more clearly\n",
      "     NEW: more clearly\n",
      "ORIGINAL: real\n",
      "     NEW: real\n",
      "ORIGINAL: as far as human rights are concerned\n",
      "     NEW: as far as human rights are concerned\n",
      "ORIGINAL: easily qualify as repressive and violating human rights\n",
      "     NEW: easily qualify as repressive and violating human rights\n",
      "ORIGINAL: oppressive\n",
      "     NEW: oppressive\n",
      "ORIGINAL: not in itself\n",
      "     NEW: not in itself\n",
      "ORIGINAL: aggressively\n",
      "     NEW: aggressively\n",
      "ORIGINAL: evildoer\n",
      "     NEW: evildoer\n",
      "ORIGINAL: therefore\n",
      "     NEW: therefore\n",
      "ORIGINAL: scores of\n",
      "     NEW: scores of\n",
      "ORIGINAL: seemingly\n",
      "     NEW: seemingly\n",
      "ORIGINAL: Perhaps\n",
      "     NEW: Perhaps\n",
      "ORIGINAL: In other words\n",
      "     NEW: In other words\n",
      "ORIGINAL: aggressively\n",
      "     NEW: aggressively\n",
      "ORIGINAL: grave human rights violators\n",
      "     NEW: grave human rights violators\n",
      "ORIGINAL: irrespective\n",
      "     NEW: irrespective\n",
      "ORIGINAL: membership in the \"axis of evil, \"\n",
      "     NEW: membership in the \"axis of evil,\"\n",
      "ORIGINAL: per se\n",
      "     NEW: per se\n",
      "ORIGINAL: axis of evil\n",
      "     NEW: axis of evil\n",
      "ORIGINAL: mere\n",
      "     NEW: mere\n",
      "ORIGINAL: authoritarian or repressive\n",
      "     NEW: authoritarian or repressive\n",
      "ORIGINAL: By all conservative estimates\n",
      "     NEW: By all conservative estimates\n",
      "ORIGINAL: seems to be\n",
      "     NEW: seems to be\n",
      "ORIGINAL: On this count\n",
      "     NEW: On this count\n",
      "ORIGINAL: more precise\n",
      "     NEW: more precise\n",
      "ORIGINAL: axis of evil\n",
      "     NEW: axis of evil\n",
      "ORIGINAL: \"axis of evil \"\n",
      "     NEW: \"axis of evil\"\n",
      "ORIGINAL: at one speed or another\n",
      "     NEW: at one speed or another\n",
      "ORIGINAL: may not be a correct basis\n",
      "     NEW: may not be a correct basis\n",
      "ORIGINAL: do not seem\n",
      "     NEW: do not seem\n",
      "ORIGINAL: After all\n",
      "     NEW: After all\n",
      "ORIGINAL: every sense of the word\n",
      "     NEW: every sense of the word\n",
      "ORIGINAL: One can name\n",
      "     NEW: One can name\n",
      "ORIGINAL: repressive\n",
      "     NEW: repressive\n",
      "ORIGINAL: only\n",
      "     NEW: only\n",
      "ORIGINAL: Moreover\n",
      "     NEW: Moreover\n",
      "ORIGINAL: Come to think of it\n",
      "     NEW: Come to think of it\n",
      "ORIGINAL: As for\n",
      "     NEW: As for\n",
      "ORIGINAL: If this is the case\n",
      "     NEW: If this is the case\n",
      "ORIGINAL: more restrained and responsible\n",
      "     NEW: more restrained and responsible\n",
      "ORIGINAL: first and only\n",
      "     NEW: first and only\n",
      "ORIGINAL: hardly qualify\n",
      "     NEW: hardly qualify\n",
      "ORIGINAL: particularly noteworthy\n",
      "     NEW: particularly noteworthy\n",
      "ORIGINAL: violating human rights\n",
      "     NEW: violating human rights\n",
      "ORIGINAL: but rather because\n",
      "     NEW: but rather because\n",
      "ORIGINAL: not so much\n",
      "     NEW: not so much\n",
      "ORIGINAL: in fact\n",
      "     NEW: in fact\n",
      "ORIGINAL: There are many countries in the world that hardly qualify as pluralistic democracies\n",
      "     NEW: There are many countries in the world that hardly qualify as pluralistic democracies\n",
      "ORIGINAL: do not seem to come within the scope of the \"axis of evil\n",
      "     NEW: do not seem to come within the scope of the \"axis of evil\n",
      "ORIGINAL: but rather because they have neither the knowledge nor the money to join the \"nuclear club\n",
      "     NEW: but rather because they have neither the knowledge nor the money to join the \"nuclear club\n",
      "ORIGINAL: feel that its own national security is being threatened\n",
      "     NEW: feel that its own national security is being threatened\n",
      "ORIGINAL: aggressively seeking \"nuclear, biological or chemical weapons\n",
      "     NEW: aggressively seeking\" nuclear, biological or chemical weapons\n",
      "ORIGINAL: particularly disturbed\n",
      "     NEW: particularly disturbed\n",
      "ORIGINAL: The rule, as far as human rights are concerned, is that every nation which does not enjoy pluralistic democracy is violating human rights and is therefore oppressive\n",
      "     NEW: The rule, as far as human rights are concerned, is that every nation which does not enjoy pluralistic democracy is violating human rights and is therefore oppressive\n",
      "ORIGINAL: is not in itself a reason to label a state as evildoer\n",
      "     NEW: is not in itself a reason to label a state as evildoer\n",
      "ORIGINAL: By all conservative estimates, there are scores of other countries which can easily qualify as repressive and violating human rights\n",
      "     NEW: By all conservative estimates, there are scores of other countries which can easily qualify as repressive and violating human rights\n",
      "ORIGINAL: feel that democratic regimes are more restrained and responsible when it comes to resorting to weapons of mass destruction\n",
      "     NEW: feel that democratic regimes are more restrained and responsible when it comes to resorting to weapons of mass destruction\n",
      "ORIGINAL: the term \"axis of evil \"that Bush used in his State of the Union address a few weeks ago to describe\n",
      "     NEW: the term \"axis of evil\" that Bush used in his State of the Union address a few weeks ago to describe\n",
      "ORIGINAL: seems to be particularly disturbed and feel that its own national security is being threatened only when the nations which acquire mass destruction weapons are authoritarian or repressive, irrespective of the pace of amassing weaponry\n",
      "     NEW: seems to be particularly disturbed and feel that its own national security is being threatened only when the nations which acquire mass destruction weapons are authoritarian or repressive, irrespective of the pace of amassing weaponry\n",
      "ORIGINAL: If this is the case, Rice could have elaborated more precise criteria for membership in the \"axis of evil, \"by establishing more clearly the connection between the nature of the regime and the acquisition of weapons of mass destruction\n",
      "     NEW: If this is the case, Rice could have elaborated more precise criteria for membership in the \"axis of evil,\" by establishing more clearly the connection between the nature of the regime and the acquisition of weapons of mass destruction\n",
      "ORIGINAL: As for her wording regarding acquisition of weapons, what is particularly noteworthy is the use of the words\n",
      "     NEW: As for her wording regarding acquisition of weapons, what is particularly noteworthy is the use of the words \n",
      "ORIGINAL: One can name more than a dozen countries which are contemplating the acquisition of mass destruction weapons at one speed or another\n",
      "     NEW: One can name more than a dozen countries which are contemplating the acquisition of mass destruction weapons at one speed or another\n",
      "ORIGINAL: may not be a correct basis for judging whether a nation is good or evil\n",
      "     NEW: may not be a correct basis for judging whether a nation is good or evil\n",
      "ORIGINAL: On this count, the national security adviser may have erred\n",
      "     NEW: On this count, the national security adviser may have erred\n",
      "ORIGINAL: are contemplating\n",
      "     NEW: are contemplating\n",
      "ORIGINAL: have neither the knowledge nor the money to join the \"nuclear club\n",
      "     NEW: have neither the knowledge nor the money to join the \"nuclear club\n",
      "ORIGINAL: Perhaps the real criterion in this context is whether the nuclear country is democratic in every sense of the word\n",
      "     NEW: Perhaps the real criterion in this context is whether the nuclear country is democratic in every sense of the word\n",
      "ORIGINAL: fear\n",
      "     NEW: fear\n",
      "ORIGINAL: are repressive and grave human rights violators, and aggressively seeking weapons of mass destruction\n",
      "     NEW: are repressive and grave human rights violators, and aggressively seeking weapons of mass destruction\n",
      "ORIGINAL: The criteria set by Rice are the following: the three countries in question are repressive and grave human rights violators, and aggressively seeking weapons of mass destruction\n",
      "     NEW: The criteria set by Rice are the following: the three countries in question are repressive and grave human rights violators, and aggressively seeking weapons of mass destruction\n",
      "ORIGINAL: The rule, as far as human rights are concerned, is that every nation which does not enjoy pluralistic democracy is violating human rights and is therefore oppressive\n",
      "     NEW: The rule, as far as human rights are concerned, is that every nation which does not enjoy pluralistic democracy is violating human rights and is therefore oppressive\n",
      "ORIGINAL: aggressively seeking \"nuclear, biological or chemical weapons\n",
      "     NEW: aggressively seeking\" nuclear, biological or chemical weapons\n",
      "ORIGINAL: are doing so not so much to escape being branded as \"evil\n",
      "     NEW: are doing so not so much to escape being branded as \"evil\n",
      "ORIGINAL: label a state as evildoer\n",
      "     NEW: label a state as evildoer\n",
      "ORIGINAL: \n",
      "     NEW: \n",
      "ORIGINAL: \n",
      "     NEW: \n",
      "ORIGINAL: \n",
      "     NEW: \n",
      "ORIGINAL: \n",
      "     NEW: \n",
      "ORIGINAL: set by\n",
      "     NEW: set by\n",
      "ORIGINAL: the fear\n",
      "     NEW: the fear\n",
      "ORIGINAL: \n",
      "     NEW: \n",
      "ORIGINAL: label\n",
      "     NEW: label\n",
      "ORIGINAL: used\n",
      "     NEW: used\n",
      "ORIGINAL: particularly disturbed\n",
      "     NEW: particularly disturbed\n",
      "ORIGINAL: to describe\n",
      "     NEW: to describe\n",
      "ORIGINAL: feel\n",
      "     NEW: feel\n",
      "ORIGINAL: feel\n",
      "     NEW: feel\n",
      "ORIGINAL: \n",
      "     NEW: \n",
      "ORIGINAL: use of the words\n",
      "     NEW: use of the words \n",
      "ORIGINAL: \n",
      "     NEW: \n",
      "ORIGINAL: \n",
      "     NEW: \n",
      "ORIGINAL: \n",
      "     NEW: \n",
      "ORIGINAL: \n",
      "     NEW: \n",
      "ORIGINAL: \n",
      "     NEW: \n",
      "ORIGINAL: \n",
      "     NEW: \n",
      "ORIGINAL: are contemplating\n",
      "     NEW: are contemplating\n",
      "ORIGINAL: \n",
      "     NEW: \n",
      "ORIGINAL: Elaborating\n",
      "     NEW: Elaborating\n"
     ]
    }
   ],
   "source": [
    "limit = 100\n",
    "count = 0\n",
    "punc_list = ['.', ',', ';', ':', '\\\"', '\\'']\n",
    "for obj in data:\n",
    "    if count > limit:\n",
    "        break\n",
    "    s1 = set(['w_head_span', 'w_text', 'clean_head', 'head_start', 'head_end'])\n",
    "    # for ind in range(len(obj['w_text'])):\n",
    "    #     if obj['w_text'][ind] == '\\'s':\n",
    "    #         obj['w_text'][ind] = \"POSSESSIVE\"\n",
    "    if s1.issubset(obj.keys()):\n",
    "        clean, offset_list = assemble_tokens(obj['w_text'])\n",
    "        w_head, w_end = obj['w_head_span']\n",
    "        # print(clean)\n",
    "        print('ORIGINAL:', obj['clean_head'])\n",
    "        s_head = offset_list[w_head]\n",
    "        e_head = offset_list[w_end]\n",
    "        if w_head == 0 and w_end == 0:\n",
    "            print('     NEW:', '')\n",
    "        elif offset_list[-1] == e_head or clean[offset_list[w_end+1]-2] in punc_list or clean[offset_list[w_end+1]-1] in punc_list:\n",
    "            print('     NEW:', clean[s_head:e_head])\n",
    "        else:\n",
    "            print('     NEW:', clean[s_head:e_head-1])\n",
    "    count+=1"
   ]
  },
  {
   "cell_type": "markdown",
   "id": "da1226fb-c2f4-4a1b-9606-6154c68d2e46",
   "metadata": {},
   "source": [
    "What to do with possesives? They are considered as own token For example: PRESIDENT GEORGE Bush 's National Security Adviser Condoleezza Rice has recently \"defined\" the context and scope of the term \"axis of evil\" that Bush used in his State of the Union address a few weeks ago to describe Iraq, Iran and North Korea."
   ]
  },
  {
   "cell_type": "markdown",
   "id": "dcde5736-f446-4c36-8c12-0d2847352659",
   "metadata": {},
   "source": [
    "Replace single quote with sequence of distinct character (\"POSSESSIVE\") and then replace after with regular expression substitution"
   ]
  },
  {
   "cell_type": "markdown",
   "id": "be3bebbd-469a-4e47-a91b-4ffb62a4fc5b",
   "metadata": {},
   "source": [
    "New output: clean sentence and a list of character offsets (start index) for each token, then use those indices for each to calculate for head/anchor offsets"
   ]
  },
  {
   "cell_type": "code",
   "execution_count": 72,
   "id": "9aacd88b-b3a5-416c-95c6-3fb9e4ef3169",
   "metadata": {},
   "outputs": [],
   "source": [
    "w_text = [\n",
    "                \"As\",\n",
    "                \"for\",\n",
    "                \"her\",\n",
    "                \"wording\",\n",
    "                \"regarding\",\n",
    "                \"acquisition\",\n",
    "                \"of\",\n",
    "                \"weapons\",\n",
    "                \",\",\n",
    "                \"what\",\n",
    "                \"is\",\n",
    "                \"particularly\",\n",
    "                \"noteworthy\",\n",
    "                \"is\",\n",
    "                \"the\",\n",
    "                \"use\",\n",
    "                \"of\",\n",
    "                \"the\",\n",
    "                \"words\",\n",
    "                \"\\\"\",\n",
    "                \"aggressively\",\n",
    "                \"seeking\",\n",
    "                \"\\\"\",\n",
    "                \"nuclear\",\n",
    "                \",\",\n",
    "                \"biological\",\n",
    "                \"or\",\n",
    "                \"chemical\",\n",
    "                \"weapons\",\n",
    "                \".\"\n",
    "            ]"
   ]
  },
  {
   "cell_type": "code",
   "execution_count": 98,
   "id": "5894a073-b21b-404c-b930-c58482e316aa",
   "metadata": {},
   "outputs": [],
   "source": [
    "clean_text, offset_list = assemble_tokens(w_text)"
   ]
  },
  {
   "cell_type": "code",
   "execution_count": 99,
   "id": "ecbf6526-2cfa-4eea-88fb-96fabe426a36",
   "metadata": {},
   "outputs": [
    {
     "data": {
      "text/plain": [
       "'to describe '"
      ]
     },
     "execution_count": 99,
     "metadata": {},
     "output_type": "execute_result"
    }
   ],
   "source": [
    "clean_text[offset_list[40]:offset_list[42]]"
   ]
  },
  {
   "cell_type": "code",
   "execution_count": null,
   "id": "a52bbe7e-c289-4310-8d05-50b88ff1f63d",
   "metadata": {},
   "outputs": [],
   "source": []
  },
  {
   "cell_type": "code",
   "execution_count": 388,
   "id": "62fdd118-e397-4aaa-b9cc-a56518d2d3a7",
   "metadata": {},
   "outputs": [
    {
     "data": {
      "text/plain": [
       "'.'"
      ]
     },
     "execution_count": 388,
     "metadata": {},
     "output_type": "execute_result"
    }
   ],
   "source": [
    "clean_text[243:]"
   ]
  },
  {
   "cell_type": "code",
   "execution_count": 341,
   "id": "efa7b4b0-b650-40a8-8e57-c804acac1ebf",
   "metadata": {},
   "outputs": [
    {
     "data": {
      "text/plain": [
       "(120, 137)"
      ]
     },
     "execution_count": 341,
     "metadata": {},
     "output_type": "execute_result"
    }
   ],
   "source": [
    "offset_list[20], offset_list[25]-1"
   ]
  },
  {
   "cell_type": "code",
   "execution_count": 56,
   "id": "37c94bc9-270b-4ec6-a2fe-43825eb21f6a",
   "metadata": {},
   "outputs": [
    {
     "data": {
      "text/plain": [
       "'as far as human rights are concerned'"
      ]
     },
     "execution_count": 56,
     "metadata": {},
     "output_type": "execute_result"
    }
   ],
   "source": [
    "clean_text[offset_list[3]:offset_list[10]]"
   ]
  },
  {
   "cell_type": "code",
   "execution_count": 74,
   "id": "52b5b98d-5df7-40b2-8bfa-e64826100094",
   "metadata": {},
   "outputs": [
    {
     "name": "stdout",
     "output_type": "stream",
     "text": [
      "As \n",
      "for \n",
      "her \n",
      "wording \n",
      "regarding \n",
      "acquisition \n",
      "of \n",
      "weapons\n",
      ", \n",
      "what \n",
      "is \n",
      "particularly \n",
      "noteworthy \n",
      "is \n",
      "the \n",
      "use \n",
      "of \n",
      "the \n",
      "words \n",
      "\"\n",
      "aggressively \n",
      "seeking\n",
      "\" \n",
      "nuclear\n",
      ", \n",
      "biological \n",
      "or \n",
      "chemical \n",
      "weapons\n"
     ]
    }
   ],
   "source": [
    "for i in range(len(offset_list)-1):\n",
    "    print(clean_text[offset_list[i]:offset_list[i+1]])"
   ]
  },
  {
   "cell_type": "code",
   "execution_count": 97,
   "id": "a869ea63-1a2e-469d-bbb8-7a4bdd09ee89",
   "metadata": {},
   "outputs": [],
   "source": [
    "w_text = [\n",
    "                \"PRESIDENT\",\n",
    "                \"GEORGE\",\n",
    "                \"Bush\",\n",
    "                \"'s\",\n",
    "                \"National\",\n",
    "                \"Security\",\n",
    "                \"Adviser\",\n",
    "                \"Condoleezza\",\n",
    "                \"Rice\",\n",
    "                \"has\",\n",
    "                \"recently\",\n",
    "                \"\\\"\",\n",
    "                \"defined\",\n",
    "                \"\\\"\",\n",
    "                \"the\",\n",
    "                \"context\",\n",
    "                \"and\",\n",
    "                \"scope\",\n",
    "                \"of\",\n",
    "                \"the\",\n",
    "                \"term\",\n",
    "                \"\\\"\",\n",
    "                \"axis\",\n",
    "                \"of\",\n",
    "                \"evil\",\n",
    "                \"\\\"\",\n",
    "                \"that\",\n",
    "                \"Bush\",\n",
    "                \"used\",\n",
    "                \"in\",\n",
    "                \"his\",\n",
    "                \"State\",\n",
    "                \"of\",\n",
    "                \"the\",\n",
    "                \"Union\",\n",
    "                \"address\",\n",
    "                \"a\",\n",
    "                \"few\",\n",
    "                \"weeks\",\n",
    "                \"ago\",\n",
    "                \"to\",\n",
    "                \"describe\",\n",
    "                \"Iraq\",\n",
    "                \",\",\n",
    "                \"Iran\",\n",
    "                \"and\",\n",
    "                \"North\",\n",
    "                \"Korea\",\n",
    "                \".\"\n",
    "            ]"
   ]
  },
  {
   "cell_type": "code",
   "execution_count": null,
   "id": "31c1699d-79cc-4586-8f47-221dfcf82de1",
   "metadata": {},
   "outputs": [],
   "source": [
    "def main():\n",
    "    "
   ]
  },
  {
   "cell_type": "code",
   "execution_count": null,
   "id": "f864babb-1f15-42c6-b327-cbd92a8620ba",
   "metadata": {},
   "outputs": [],
   "source": [
    "\n",
    "\n",
    "if __name__ == '__main__':\n",
    "    main()"
   ]
  }
 ],
 "metadata": {
  "kernelspec": {
   "display_name": "Python 3 (ipykernel)",
   "language": "python",
   "name": "python3"
  },
  "language_info": {
   "codemirror_mode": {
    "name": "ipython",
    "version": 3
   },
   "file_extension": ".py",
   "mimetype": "text/x-python",
   "name": "python",
   "nbconvert_exporter": "python",
   "pygments_lexer": "ipython3",
   "version": "3.10.9"
  }
 },
 "nbformat": 4,
 "nbformat_minor": 5
}
